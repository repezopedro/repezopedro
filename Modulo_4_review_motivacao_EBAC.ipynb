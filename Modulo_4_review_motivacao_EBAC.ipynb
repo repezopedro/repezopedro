{
  "nbformat": 4,
  "nbformat_minor": 0,
  "metadata": {
    "colab": {
      "provenance": [],
      "collapsed_sections": [
        "O7D37N5l0b28",
        "T_IDYs_esNH1",
        "WgBBOGL_igCj",
        "XHyzzdmUP64r"
      ],
      "toc_visible": true,
      "authorship_tag": "ABX9TyMGZjKH70YMGOLGRgF2n4eS",
      "include_colab_link": true
    },
    "kernelspec": {
      "name": "python3",
      "display_name": "Python 3"
    },
    "language_info": {
      "name": "python"
    }
  },
  "cells": [
    {
      "cell_type": "markdown",
      "metadata": {
        "id": "view-in-github",
        "colab_type": "text"
      },
      "source": [
        "<a href=\"https://colab.research.google.com/github/repezopedro/repezopedro/blob/main/Modulo_4_review_motivacao_EBAC.ipynb\" target=\"_parent\"><img src=\"https://colab.research.google.com/assets/colab-badge.svg\" alt=\"Open In Colab\"/></a>"
      ]
    },
    {
      "cell_type": "markdown",
      "source": [
        "\n",
        "\n",
        "## REVISITANDO MOTIVAÇÃO - AULA 3 - MODULO 4\n",
        "\n",
        "\n",
        "\n",
        "\n"
      ],
      "metadata": {
        "id": "hE9s_Cx3vZjR"
      }
    },
    {
      "cell_type": "code",
      "source": [
        "#Com base na motivação da aula 3 (módulo 4) , quero acrescentar as seguintes possibilidades:\n",
        "\n",
        "# 1: definir uma caixa para digitar/testar valor inicial aplicado, taxa de juros e tempo obtendo assim o valor final de retorno do investimento.\n",
        "# 2: viabilizar um script 'atingir meta'\n",
        "# 3: salvar resultados de 1 em uma tabela"
      ],
      "metadata": {
        "id": "os2KUmznwsni"
      },
      "execution_count": 113,
      "outputs": []
    },
    {
      "cell_type": "code",
      "source": [
        "import pandas as pd\n",
        "import numpy as np"
      ],
      "metadata": {
        "id": "HjlkA5NpvUF8"
      },
      "execution_count": 50,
      "outputs": []
    },
    {
      "cell_type": "markdown",
      "source": [
        "\n",
        "\n",
        "### 1: Digitar Variáveis\n",
        "\n"
      ],
      "metadata": {
        "id": "_mMyvH1aQGTz"
      }
    },
    {
      "cell_type": "code",
      "source": [
        "#Input de dados\n",
        "valor_inicial_novo = float(input('Digite o valor aplicado:  R$'))\n",
        "taxa_selic_aplicada = float(input('Digite a taxa de juros aplicada (%):  '))\n",
        "anos = int(input('Digite o número de anos:  '))\n",
        "\n"
      ],
      "metadata": {
        "colab": {
          "base_uri": "https://localhost:8080/"
        },
        "id": "dzzPMNZRlhVq",
        "outputId": "400255b5-120d-4660-bb14-339c07f8a4ec"
      },
      "execution_count": 101,
      "outputs": [
        {
          "name": "stdout",
          "output_type": "stream",
          "text": [
            "Digite o valor aplicado:  R$1000\n",
            "Digite a taxa de juros aplicada (%):  5.28\n",
            "Digite o número de anos:  10\n"
          ]
        }
      ]
    },
    {
      "cell_type": "code",
      "source": [
        "def juros_compostos_anual(valor_inicial_novo: float, taxa_selic_aplicada: float, anos: int, valor_final: float) -> float:\n",
        "  valor_final = valor_inicial_novo\n",
        "for ano in range(1, anos+1):\n",
        "  valor_final = valor_final * (1 + (taxa_selic_atual/100))\n",
        "valor_final = round(valor_final, 2)\n",
        "\n",
        "#imprimindo resultado\n",
        "print(f'Para a taxa básica de juros atual igual a {taxa_selic_atual}% e um valor aplicado inicial de R${valor_inicial} em {anos} anos, o retorno será de R${valor_final}')\n",
        "\n",
        "print('\\n')\n"
      ],
      "metadata": {
        "colab": {
          "base_uri": "https://localhost:8080/"
        },
        "id": "pBOcIBJfv1-J",
        "outputId": "53553670-9dfb-4e57-b6d6-9cc2531026c2"
      },
      "execution_count": 103,
      "outputs": [
        {
          "output_type": "stream",
          "name": "stdout",
          "text": [
            "Para a taxa básica de juros atual igual a 5.28% e um valor aplicado inicial de R$1000 em 10 anos, o retorno será de R$7831.35\n",
            "\n",
            "\n"
          ]
        }
      ]
    },
    {
      "cell_type": "markdown",
      "source": [
        "\n",
        "\n",
        "### 2: Atingir Meta\n",
        "\n",
        "\n",
        "\n",
        "\n",
        "\n",
        "\n",
        "\n",
        "\n",
        "\n",
        "\n",
        "\n"
      ],
      "metadata": {
        "id": "XHyzzdmUP64r"
      }
    },
    {
      "cell_type": "code",
      "source": [
        "#viabilizar um 'atingir meta'\n",
        "\n",
        "valor_final_desejado = float(input('Digite o valor final desejado:  R$'))\n",
        "anos_meta = int(input('Digite o número de anos:  '))"
      ],
      "metadata": {
        "colab": {
          "base_uri": "https://localhost:8080/"
        },
        "id": "61a1RHqwsiVp",
        "outputId": "aa2bb10d-f0a1-4bbc-ef38-1ac645603602"
      },
      "execution_count": 65,
      "outputs": [
        {
          "name": "stdout",
          "output_type": "stream",
          "text": [
            "Digite o valor final desejado:  R$5000\n",
            "Digite o número de anos:  4\n"
          ]
        }
      ]
    },
    {
      "cell_type": "code",
      "source": [
        "valor_inicial_necessario = valor_final_desejado / (1 + (taxa_selic_atual/100))**anos_meta\n",
        "valor_inicial_necessario = round(valor_inicial_necessario, 2)\n",
        "\n",
        "#formatando os valores para moeda\n",
        "valor_final_format = \"{:,.2f}\".format(valor_final_desejado)\n",
        "valor_inicial_format = \"{:,.2f}\".format(valor_inicial_necessario)\n",
        "\n",
        "#imprimindo com valor formatado\n",
        "print(f'Para atingir o valor final de R${valor_final_format} em {anos_meta} anos, o valor inicial necessário é de R${valor_inicial_format}')\n"
      ],
      "metadata": {
        "colab": {
          "base_uri": "https://localhost:8080/"
        },
        "id": "DZkLeWVz5_0W",
        "outputId": "b0c7649c-cf03-4cfb-f0a7-cac6736ed20a"
      },
      "execution_count": 76,
      "outputs": [
        {
          "output_type": "stream",
          "name": "stdout",
          "text": [
            "Para atingir o valor final de R$5,000.00 em 4 anos, o valor inicial necessário é de R$4,069.93\n"
          ]
        }
      ]
    },
    {
      "cell_type": "markdown",
      "source": [
        "### 3: Salvar resultados"
      ],
      "metadata": {
        "id": "EDMO47lySJmH"
      }
    },
    {
      "cell_type": "code",
      "source": [
        "#salvando os resultados\n",
        "\n",
        "#criando um dataframe\n",
        "df = pd.DataFrame()\n",
        "\n",
        "#adicionando as colunas\n",
        "df['Valor Inicial'] = valor_inicial_novo\n",
        "df['Taxa de Juros'] = taxa_selic_aplicada\n",
        "df['Anos'] = anos\n",
        "df['Valor Final'] = valor_final\n",
        "\n",
        "#salvando o dataframe em um arquivo CSV\n",
        "df.to_csv('resultados.csv', index=False)\n"
      ],
      "metadata": {
        "id": "fz-n0MiAR8nJ"
      },
      "execution_count": 111,
      "outputs": []
    },
    {
      "cell_type": "code",
      "source": [
        "with open(file = 'resultados.csv', mode = 'a', encoding = 'utf8') as fp:\n",
        "  linha = 'hipótese' + '\\n'\n",
        "  fp.write(linha)\n",
        "  for n in str(valor_inicial_novo):\n",
        "    linha = str(n) + '\\n'\n",
        "    fp.write(linha)"
      ],
      "metadata": {
        "id": "qmKO7oXmYFL2"
      },
      "execution_count": 112,
      "outputs": []
    }
  ]
}